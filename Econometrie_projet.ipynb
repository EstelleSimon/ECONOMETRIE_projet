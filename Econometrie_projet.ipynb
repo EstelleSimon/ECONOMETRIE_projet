{
  "nbformat": 4,
  "nbformat_minor": 0,
  "metadata": {
    "colab": {
      "provenance": [],
      "authorship_tag": "ABX9TyNCO/26A6eVjXLV45FshHk1",
      "include_colab_link": true
    },
    "kernelspec": {
      "name": "ir",
      "display_name": "R"
    },
    "language_info": {
      "name": "R"
    }
  },
  "cells": [
    {
      "cell_type": "markdown",
      "metadata": {
        "id": "view-in-github",
        "colab_type": "text"
      },
      "source": [
        "<a href=\"https://colab.research.google.com/github/EstelleSimon/ECONOMETRIE_projet/blob/main/Econometrie_projet.ipynb\" target=\"_parent\"><img src=\"https://colab.research.google.com/assets/colab-badge.svg\" alt=\"Open In Colab\"/></a>"
      ]
    },
    {
      "cell_type": "code",
      "execution_count": 1,
      "metadata": {
        "id": "OUviLnn0jo2O",
        "colab": {
          "base_uri": "https://localhost:8080/"
        },
        "outputId": "2d9ef852-61f0-4b20-d526-cf399adfae86"
      },
      "outputs": [
        {
          "output_type": "stream",
          "name": "stdout",
          "text": [
            "[1] 3\n"
          ]
        }
      ],
      "source": [
        "x=1\n",
        "y=2\n",
        "print(x+y)"
      ]
    },
    {
      "cell_type": "code",
      "source": [],
      "metadata": {
        "id": "VZZGdUJWoBvF"
      },
      "execution_count": null,
      "outputs": []
    }
  ]
}